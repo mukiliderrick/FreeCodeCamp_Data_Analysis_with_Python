{
  "nbformat": 4,
  "nbformat_minor": 0,
  "metadata": {
    "colab": {
      "provenance": [],
      "authorship_tag": "ABX9TyMa63y4Ob/GH9pRvNKRQRax",
      "include_colab_link": true
    },
    "kernelspec": {
      "name": "python3",
      "display_name": "Python 3"
    },
    "language_info": {
      "name": "python"
    }
  },
  "cells": [
    {
      "cell_type": "markdown",
      "metadata": {
        "id": "view-in-github",
        "colab_type": "text"
      },
      "source": [
        "<a href=\"https://colab.research.google.com/github/mukiliderrick/FreeCodeCamp_Data_Analysis_with_Python/blob/main/Arithmetic_Formatter.ipynb\" target=\"_parent\"><img src=\"https://colab.research.google.com/assets/colab-badge.svg\" alt=\"Open In Colab\"/></a>"
      ]
    },
    {
      "cell_type": "code",
      "execution_count": 1,
      "metadata": {
        "colab": {
          "base_uri": "https://localhost:8080/"
        },
        "id": "5CFu0x1HrpUN",
        "outputId": "614e5ba4-0359-44fa-ff25-81d65fdcff31"
      },
      "outputs": [
        {
          "output_type": "stream",
          "name": "stdout",
          "text": [
            "   32      3801      45      123\n",
            "+ 698    -    2    + 43    +  49\n",
            "-----    ------    ----    -----\n",
            "  730      3799      88      172\n"
          ]
        }
      ],
      "source": [
        "def arithmetic_arranger(problems, show_answer=False):\n",
        "    if len(problems) > 5:\n",
        "        return \"Error: Too many problems.\"\n",
        "\n",
        "    top_line = \"\"\n",
        "    bottom_line = \"\"\n",
        "    dash_line = \"\"\n",
        "    answer_line = \"\"\n",
        "\n",
        "    for problem in problems:\n",
        "        num1, operator, num2 = problem.split()\n",
        "\n",
        "        if operator not in [\"+\", \"-\"]:\n",
        "            return \"Error: Operator must be '+' or '-'.\"\n",
        "\n",
        "        if not (num1.isdigit() and num2.isdigit()):\n",
        "            return \"Error: Numbers must only contain digits.\"\n",
        "\n",
        "        if len(num1) > 4 or len(num2) > 4:\n",
        "            return \"Error: Numbers cannot be more than four digits.\"\n",
        "\n",
        "        width = max(len(num1), len(num2)) + 2\n",
        "\n",
        "        top_line += num1.rjust(width) + \"    \"\n",
        "        bottom_line += operator + num2.rjust(width - 1) + \"    \"\n",
        "        dash_line += \"-\" * width + \"    \"\n",
        "\n",
        "        if show_answer:\n",
        "            if operator == \"+\":\n",
        "                answer = str(int(num1) + int(num2))\n",
        "            else:\n",
        "                answer = str(int(num1) - int(num2))\n",
        "            answer_line += answer.rjust(width) + \"    \"\n",
        "\n",
        "    arranged_problems = top_line.rstrip() + \"\\n\" + bottom_line.rstrip() + \"\\n\" + dash_line.rstrip()\n",
        "    if show_answer:\n",
        "        arranged_problems += \"\\n\" + answer_line.rstrip()\n",
        "\n",
        "    return arranged_problems\n",
        "\n",
        "\n",
        "# Test the function\n",
        "problems = [\"32 + 698\", \"3801 - 2\", \"45 + 43\", \"123 + 49\"]\n",
        "print(arithmetic_arranger(problems, show_answer=True))\n"
      ]
    },
    {
      "cell_type": "code",
      "source": [],
      "metadata": {
        "id": "e8mwoMQ5rs9m"
      },
      "execution_count": null,
      "outputs": []
    }
  ]
}