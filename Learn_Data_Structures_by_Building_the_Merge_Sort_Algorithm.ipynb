{
  "cells": [
    {
      "cell_type": "markdown",
      "metadata": {
        "id": "view-in-github",
        "colab_type": "text"
      },
      "source": [
        "<a href=\"https://colab.research.google.com/github/mukiliderrick/FreeCodeCamp_Data_Analysis_with_Python/blob/main/Learn_Data_Structures_by_Building_the_Merge_Sort_Algorithm.ipynb\" target=\"_parent\"><img src=\"https://colab.research.google.com/assets/colab-badge.svg\" alt=\"Open In Colab\"/></a>"
      ]
    },
    {
      "cell_type": "code",
      "execution_count": 3,
      "metadata": {
        "id": "8piHeWnS-W7j"
      },
      "outputs": [],
      "source": []
    },
    {
      "cell_type": "code",
      "source": [
        "def merge_sort(array):\n",
        "    if len(array) <= 1:\n",
        "        return\n",
        "\n",
        "    middle_point = len(array) // 2\n",
        "    left_part = array[:middle_point]\n",
        "    right_part = array[middle_point:]\n",
        "\n",
        "    merge_sort(left_part)\n",
        "    merge_sort(right_part)\n",
        "\n",
        "    left_array_index = 0\n",
        "    right_array_index = 0\n",
        "    sorted_index = 0\n",
        "\n",
        "    while left_array_index < len(left_part) and right_array_index < len(right_part):\n",
        "        if left_part[left_array_index] < right_part[right_array_index]:\n",
        "            array[sorted_index] = left_part[left_array_index]\n",
        "            left_array_index += 1\n",
        "        else:\n",
        "            array[sorted_index] = right_part[right_array_index]\n",
        "            right_array_index += 1\n",
        "        sorted_index += 1\n",
        "\n",
        "    while left_array_index < len(left_part):\n",
        "        array[sorted_index] = left_part[left_array_index]\n",
        "        left_array_index += 1\n",
        "        sorted_index += 1\n",
        "\n",
        "    while right_array_index < len(right_part):\n",
        "        array[sorted_index] = right_part[right_array_index]\n",
        "        right_array_index += 1\n",
        "        sorted_index += 1\n",
        "\n",
        "if __name__ == '__main__':\n",
        "    numbers = [4, 10, 6, 14, 2, 1, 8, 5]\n",
        "    print('Unsorted array: ')\n",
        "    print(numbers)\n",
        "    merge_sort(numbers)\n",
        "    print('Sorted array: ' + str(numbers))"
      ],
      "metadata": {
        "colab": {
          "base_uri": "https://localhost:8080/"
        },
        "id": "nXXH6f8lveLW",
        "outputId": "022d0c5d-cf02-4065-e333-da6486d32054"
      },
      "execution_count": 2,
      "outputs": [
        {
          "output_type": "stream",
          "name": "stdout",
          "text": [
            "Unsorted array: \n",
            "[4, 10, 6, 14, 2, 1, 8, 5]\n",
            "Sorted array: [1, 2, 4, 5, 6, 8, 10, 14]\n"
          ]
        }
      ]
    },
    {
      "cell_type": "code",
      "source": [],
      "metadata": {
        "id": "LMwbpJYbH3NT"
      },
      "execution_count": null,
      "outputs": []
    }
  ],
  "metadata": {
    "colab": {
      "provenance": [],
      "authorship_tag": "ABX9TyN4I7y3ZdG7OaolkOmHUJ17",
      "include_colab_link": true
    },
    "kernelspec": {
      "display_name": "Python 3",
      "name": "python3"
    },
    "language_info": {
      "name": "python"
    }
  },
  "nbformat": 4,
  "nbformat_minor": 0
}