{
  "nbformat": 4,
  "nbformat_minor": 0,
  "metadata": {
    "colab": {
      "provenance": [],
      "authorship_tag": "ABX9TyOsAQABBm+7GzKZhRa3CXWm",
      "include_colab_link": true
    },
    "kernelspec": {
      "name": "python3",
      "display_name": "Python 3"
    },
    "language_info": {
      "name": "python"
    }
  },
  "cells": [
    {
      "cell_type": "markdown",
      "metadata": {
        "id": "view-in-github",
        "colab_type": "text"
      },
      "source": [
        "<a href=\"https://colab.research.google.com/github/mukiliderrick/FreeCodeCamp_Data_Analysis_with_Python/blob/main/Time_Calculator_Project.ipynb\" target=\"_parent\"><img src=\"https://colab.research.google.com/assets/colab-badge.svg\" alt=\"Open In Colab\"/></a>"
      ]
    },
    {
      "cell_type": "code",
      "execution_count": 1,
      "metadata": {
        "colab": {
          "base_uri": "https://localhost:8080/"
        },
        "id": "3gqOJAvcE8yQ",
        "outputId": "57af7f84-c47b-426c-acfa-ec1abd2425a7"
      },
      "outputs": [
        {
          "output_type": "stream",
          "name": "stdout",
          "text": [
            "6:10 PM\n",
            "2:02 PM, Monday\n",
            "12:03 PM\n",
            "1:40 AM (next day)\n",
            "12:03 AM, Thursday (2 days later)\n",
            "7:42 AM (9 days later)\n"
          ]
        }
      ],
      "source": [
        "def add_time(start, duration, start_day=None):\n",
        "    # Define days of the week for easy lookup\n",
        "    days_of_week = ['Monday', 'Tuesday', 'Wednesday', 'Thursday', 'Friday', 'Saturday', 'Sunday']\n",
        "\n",
        "    # Helper function to convert 12-hour format time to minutes\n",
        "    def time_to_minutes(time):\n",
        "        time_parts = time.split()\n",
        "        period = time_parts[1]\n",
        "        hour, minute = map(int, time_parts[0].split(':'))\n",
        "        if period == 'PM' and hour != 12:\n",
        "            hour += 12\n",
        "        elif period == 'AM' and hour == 12:\n",
        "            hour = 0\n",
        "        return hour * 60 + minute\n",
        "\n",
        "    # Helper function to convert minutes to 12-hour format time\n",
        "    def minutes_to_time(minutes):\n",
        "        period = 'AM' if minutes < 720 else 'PM'\n",
        "        hour = (minutes // 60) % 12\n",
        "        if hour == 0:\n",
        "            hour = 12\n",
        "        minute = minutes % 60\n",
        "        return f\"{hour}:{minute:02d} {period}\"\n",
        "\n",
        "    # Calculate total minutes from the start time\n",
        "    start_minutes = time_to_minutes(start)\n",
        "\n",
        "    # Split duration into hours and minutes and convert to total minutes\n",
        "    duration_hours, duration_minutes = map(int, duration.split(':'))\n",
        "    total_duration_minutes = duration_hours * 60 + duration_minutes\n",
        "\n",
        "    # Calculate new time in minutes\n",
        "    new_time_minutes = start_minutes + total_duration_minutes\n",
        "\n",
        "    # Calculate the number of days later\n",
        "    days_later = new_time_minutes // (24 * 60)\n",
        "\n",
        "    # Calculate the time of day in minutes\n",
        "    new_time_of_day_minutes = new_time_minutes % (24 * 60)\n",
        "\n",
        "    # Convert new time back to 12-hour format\n",
        "    new_time = minutes_to_time(new_time_of_day_minutes)\n",
        "\n",
        "    # Determine the new day of the week if starting day is provided\n",
        "    if start_day:\n",
        "        start_day_index = days_of_week.index(start_day.capitalize())\n",
        "        new_day_index = (start_day_index + days_later) % 7\n",
        "        new_day = days_of_week[new_day_index]\n",
        "        result = f\"{new_time}, {new_day}\"\n",
        "    else:\n",
        "        result = new_time\n",
        "\n",
        "    # Append day information\n",
        "    if days_later == 1:\n",
        "        result += \" (next day)\"\n",
        "    elif days_later > 1:\n",
        "        result += f\" ({days_later} days later)\"\n",
        "\n",
        "    return result\n",
        "\n",
        "# Examples\n",
        "print(add_time('3:00 PM', '3:10'))  # Returns: 6:10 PM\n",
        "print(add_time('11:30 AM', '2:32', 'Monday'))  # Returns: 2:02 PM, Monday\n",
        "print(add_time('11:43 AM', '00:20'))  # Returns: 12:03 PM\n",
        "print(add_time('10:10 PM', '3:30'))  # Returns: 1:40 AM (next day)\n",
        "print(add_time('11:43 PM', '24:20', 'tueSday'))  # Returns: 12:03 AM, Thursday (2 days later)\n",
        "print(add_time('6:30 PM', '205:12'))  # Returns: 7:42 AM (9 days later)\n"
      ]
    },
    {
      "cell_type": "code",
      "source": [],
      "metadata": {
        "id": "kOEzzRPXE9lx"
      },
      "execution_count": null,
      "outputs": []
    }
  ]
}