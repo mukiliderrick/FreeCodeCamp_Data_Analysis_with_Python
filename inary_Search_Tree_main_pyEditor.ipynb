{
  "nbformat": 4,
  "nbformat_minor": 0,
  "metadata": {
    "colab": {
      "provenance": [],
      "authorship_tag": "ABX9TyMbzJ1VuudpQ8QypeayVUzg",
      "include_colab_link": true
    },
    "kernelspec": {
      "name": "python3",
      "display_name": "Python 3"
    },
    "language_info": {
      "name": "python"
    }
  },
  "cells": [
    {
      "cell_type": "markdown",
      "metadata": {
        "id": "view-in-github",
        "colab_type": "text"
      },
      "source": [
        "<a href=\"https://colab.research.google.com/github/mukiliderrick/FreeCodeCamp_Data_Analysis_with_Python/blob/main/inary_Search_Tree_main_pyEditor.ipynb\" target=\"_parent\"><img src=\"https://colab.research.google.com/assets/colab-badge.svg\" alt=\"Open In Colab\"/></a>"
      ]
    },
    {
      "cell_type": "code",
      "execution_count": null,
      "metadata": {
        "id": "KjuhCXuK1wXq"
      },
      "outputs": [],
      "source": [
        "class TreeNode:\n",
        "    def __init__(self, key):\n",
        "        self.key = key\n",
        "        self.left = None\n",
        "        self.right = None\n",
        "\n",
        "    def __str__(self):\n",
        "        return str(self.key)\n",
        "\n",
        "\n",
        "class BinarySearchTree:\n",
        "    def __init__(self):\n",
        "        self.root = None\n",
        "\n",
        "    def insert(self,key):\n",
        "        self.root = self._insert(self.root, key)\n",
        "\n",
        "    def _insert(self, node, key):\n",
        "        if node is None:\n",
        "            return TreeNode(key)\n",
        "        if key < node.key:\n",
        "            node.left = self._insert(node.left, key)\n",
        "        elif key > node.key:\n",
        "            node.right = self._insert(node.right, key)\n",
        "        return node\n",
        "\n",
        "    def search(self, key):\n",
        "        return self._search(self.root, key)\n",
        "\n",
        "    def _search(self, node, key):\n",
        "        if node is None or node.key == key:\n",
        "            return node\n",
        "        if key < node.key:\n",
        "            return self._search(node.left, key)\n",
        "        return self._search(node.right, key)\n",
        "\n",
        "    def delete(self, key):\n",
        "        self.root = self._delete(self.root, key)\n",
        "\n",
        "    def _delete(self, node, key):\n",
        "        if node is None:\n",
        "            return node\n",
        "        if key < node.key:\n",
        "            node.left = self._delete(node.left, key)\n",
        "        elif key > node.key:\n",
        "            node.right = self._delete(node.right, key)\n",
        "        else:\n",
        "            if node.left is None:\n",
        "                return node.right\n",
        "\n",
        "            elif node.right is None:\n",
        "                return node.left\n",
        "\n",
        "            node.key = self._min_value(node.right)\n",
        "            node.right = self._delete(node.right, node.key)\n",
        "        return node\n",
        "\n",
        "    def _min_value(self, node):\n",
        "        while node.left is not None:\n",
        "            node = node.left\n",
        "        return node.key\n",
        "\n",
        "    def inorder_traversal(self):\n",
        "        result = []\n",
        "        self._inorder_traversal(self.root, result)\n",
        "        return result\n",
        "\n",
        "    def _inorder_traversal(self, node, result):\n",
        "        if node:\n",
        "            self._inorder_traversal(node.left, result)\n",
        "            result.append(node.key)\n",
        "            self._inorder_traversal(node.right, result)\n",
        "\n",
        "\n",
        "bst = BinarySearchTree()\n",
        "nodes = [50, 30, 20, 40, 70, 60, 80]\n",
        "\n",
        "for node in nodes:\n",
        "    bst.insert(node)\n",
        "print(\"Inorder traversal:\", bst.inorder_traversal())\n",
        "print(\"Search for 40:\", bst.search(40))\n",
        "bst.delete(40)\n",
        "print(\"Inorder traversal after deleting 40:\", bst.inorder_traversal())\n",
        "print(\"Search for 40:\", bst.search(40))\n"
      ]
    }
  ]
}